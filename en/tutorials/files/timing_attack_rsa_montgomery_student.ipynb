{
 "cells": [
  {
   "cell_type": "markdown",
   "metadata": {},
   "source": [
    "# Timing Attack on RSA with Montgomery Multiplication\n",
    "Attacking data-dependent final subtraction that leads to timing side channel"
   ]
  },
  {
   "cell_type": "code",
   "execution_count": null,
   "metadata": {},
   "outputs": [],
   "source": [
    "import gmpy2\n",
    "import random\n",
    "import numpy as np"
   ]
  },
  {
   "cell_type": "code",
   "execution_count": null,
   "metadata": {},
   "outputs": [],
   "source": [
    "random.seed(2023)\n",
    "L = 64     # bit length of modulus\n",
    "R = 1 << L # Montgomery domain scaling factor \n",
    "# generate RSA modulus n\n",
    "n = 0\n",
    "while n.bit_length() != L:\n",
    "    p = int(gmpy2.next_prime(random.randint(1<<(L//2-1), 1<<(L//2)))) # L-1 bit random prime\n",
    "    q = int(gmpy2.next_prime(random.randint(1<<(L//2-1), 1<<(L//2))))\n",
    "    n = p*q\n",
    "print(f\"{R = }, {n = }, {p = }, {q = }, {n.bit_length() = }\")\n",
    "e = 31 # public exponent\n",
    "d = pow(e, -1, (p-1)*(q-1)) # private exponent\n",
    "ni = R - pow(n, -1, R) # N' = negative inverse of n mod R\n",
    "R2 = R * R % n # R^2 mod n\n",
    "print(f\"{e = }, {d = }, {ni = }, {R2 = }\")\n",
    "\n",
    "# Montgomery reduction\n",
    "def REDC(T):\n",
    "    m = ((T%R)*ni)%R\n",
    "    t = (T + n*m)//R\n",
    "    if t >= n:\n",
    "        t = t - n\n",
    "    return t\n",
    "\n",
    "# Instrumented Montgomery reduction\n",
    "# returns also if final subtraction occurred\n",
    "def REDC2(T):\n",
    "    m = ((T%R)*ni)%R\n",
    "    t = (T + n*m)//R\n",
    "    if t >= n:\n",
    "        return (t - n, 1)\n",
    "    return (t, 0)\n",
    "\n",
    "# Montgomery multiplication\n",
    "def MonMult(a, b):\n",
    "    return REDC(a*b)\n",
    "\n",
    "# Instrumented Montgomery multiplication\n",
    "# returns also if final subtraction occurred\n",
    "def MonMult2(a, b):\n",
    "    return REDC2(a*b)\n",
    "\n",
    "# Square and multiply \n",
    "def sm(a, d):\n",
    "    aa = MonMult(a, R2)\n",
    "    x = aa\n",
    "    k = d.bit_length()\n",
    "    for i in reversed(range(k-1)):\n",
    "        x = MonMult(x, x)\n",
    "        if d & (1<<i):\n",
    "            x = MonMult(x, aa)\n",
    "    return MonMult(x, 1)\n",
    "\n",
    "# Instrumented Square and multiply\n",
    "# returns also the number of final subtractions\n",
    "def sm2(a, d):\n",
    "    cnt = 0\n",
    "    aa = MonMult(a, R2)\n",
    "    x = aa\n",
    "    k = d.bit_length()\n",
    "    for i in reversed(range(k-1)):\n",
    "        x, t = MonMult2(x, x)\n",
    "        cnt += t\n",
    "        if d & (1<<i):\n",
    "            x, t = MonMult2(x, aa)\n",
    "            cnt += t\n",
    "    return MonMult(x, 1), cnt\n",
    "sm(7, 5) == pow(7, 5, n)\n"
   ]
  },
  {
   "cell_type": "markdown",
   "metadata": {},
   "source": [
    "## Prepare and measure 2 servers"
   ]
  },
  {
   "cell_type": "code",
   "execution_count": null,
   "metadata": {},
   "outputs": [],
   "source": [
    "print(f\"{d.bit_length() = }\")\n",
    "d0 = d & ~(1<<(d.bit_length()-2))\n",
    "d1 = d |  (1<<(d.bit_length()-2))\n",
    "print(f\"Original d   {d:b}\")\n",
    "print(f\"Server 0: d0 {d0:b}\")\n",
    "print(f\"Server 1: d1 {d1:b}\")"
   ]
  },
  {
   "cell_type": "code",
   "execution_count": null,
   "metadata": {},
   "outputs": [],
   "source": [
    "number_of_messages = 10000\n",
    "msgs = np.array([random.randint(0, n-1) for i in range(number_of_messages)], dtype=object)\n",
    "print(\"Sending messages to server 0\")\n",
    "times0 = np.vectorize(lambda c: sm2(c, d0)[1])(msgs)\n",
    "print(\"Sending messages to server 1\")\n",
    "times1 = np.vectorize(lambda c: sm2(c, d1)[1])(msgs)\n",
    "print(\"Responses received and times recorded\")"
   ]
  },
  {
   "cell_type": "markdown",
   "metadata": {},
   "source": [
    "## Attacking Multiplication"
   ]
  },
  {
   "cell_type": "code",
   "execution_count": null,
   "metadata": {},
   "outputs": [],
   "source": [
    "# Oracle about the presence of a final subtraction in c^2 * c (in the multiplication)\n",
    "def orak(c):\n",
    "    cc = MonMult(c, R2) # convert to MD\n",
    "    tmp = MonMult(cc, cc) # Square c\n",
    "    tmp, t = MonMult2(tmp, cc) # Multiply and get final subtraction\n",
    "    return t"
   ]
  },
  {
   "cell_type": "code",
   "execution_count": null,
   "metadata": {},
   "outputs": [],
   "source": [
    "print(\"Computing oracle about multiplication final subtraction\")\n",
    "oo = np.vectorize(orak)(msgs)\n",
    "oo.shape"
   ]
  },
  {
   "cell_type": "code",
   "execution_count": null,
   "metadata": {},
   "outputs": [],
   "source": [
    "# Attack server 0\n",
    "F10 = times0[oo == 1]\n",
    "F20 = times0[oo == 0]\n",
    "print(F10.shape, F20.shape)\n",
    "np.mean(F10) - np.mean(F20)\n",
    "# Low difference of means means d_{k-2} = 0\n",
    "# Can you tell?"
   ]
  },
  {
   "cell_type": "code",
   "execution_count": null,
   "metadata": {},
   "outputs": [],
   "source": [
    "F11 = times1[oo == 1]\n",
    "F21 = times1[oo == 0]\n",
    "print(F11.shape, F21.shape)\n",
    "np.mean(F11) - np.mean(F21)\n",
    "# High difference of means means d_{k-2} = 1\n",
    "# Can you tell?"
   ]
  },
  {
   "cell_type": "markdown",
   "metadata": {},
   "source": [
    "## Attacking Squaring\n",
    "Complete the attack on squaring on both servers and show that you've discovered a secret bit of their private exponents"
   ]
  },
  {
   "cell_type": "code",
   "execution_count": null,
   "metadata": {},
   "outputs": [],
   "source": [
    "def ora1(c):\n",
    "    cc = MonMult(c, R2)\n",
    "    tmp = MonMult(cc, cc)\n",
    "    # ...\n",
    "    return t\n",
    "def ora2(c):\n",
    "    cc = MonMult(c, R2)\n",
    "    # ...\n",
    "    return t"
   ]
  },
  {
   "cell_type": "code",
   "execution_count": null,
   "metadata": {},
   "outputs": [],
   "source": [
    "oo1 = np.vectorize(ora1)(msgs)\n",
    "# oo2 = ...\n",
    "F10 = times0[oo1 == 1]\n",
    "# ..."
   ]
  },
  {
   "cell_type": "code",
   "execution_count": null,
   "metadata": {},
   "outputs": [],
   "source": [
    "# ..."
   ]
  },
  {
   "cell_type": "code",
   "execution_count": null,
   "metadata": {},
   "outputs": [],
   "source": []
  }
 ],
 "metadata": {
  "kernelspec": {
   "display_name": "Python 3",
   "language": "python",
   "name": "python3"
  },
  "language_info": {
   "codemirror_mode": {
    "name": "ipython",
    "version": 3
   },
   "file_extension": ".py",
   "mimetype": "text/x-python",
   "name": "python",
   "nbconvert_exporter": "python",
   "pygments_lexer": "ipython3",
   "version": "3.9.1"
  }
 },
 "nbformat": 4,
 "nbformat_minor": 2
}
