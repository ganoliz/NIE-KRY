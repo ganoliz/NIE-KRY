{
 "cells": [
  {
   "cell_type": "code",
   "execution_count": null,
   "metadata": {},
   "outputs": [],
   "source": [
    "import gmpy2\n",
    "import random\n",
    "import numpy as np"
   ]
  },
  {
   "cell_type": "code",
   "execution_count": null,
   "metadata": {},
   "outputs": [],
   "source": [
    "random.seed(2023)\n",
    "L = 2048     # bit length of modulus\n",
    "# generate RSA modulus n\n",
    "n = 0\n",
    "while n.bit_length() != L:\n",
    "    p = int(gmpy2.next_prime(random.randint(1<<(L//2-1), 1<<(L//2)))) # L-1 bit random prime\n",
    "    q = int(gmpy2.next_prime(random.randint(1<<(L//2-1), 1<<(L//2))))\n",
    "    n = p*q\n",
    "print(f\"{n = }\\n{p = }\\n{q = }\\n{n.bit_length() = }\")\n",
    "e = 65537 # public exponent\n",
    "d = pow(e, -1, (p-1)*(q-1)) # private exponent\n",
    "print(f\"{e = }\\n{d = }\")"
   ]
  },
  {
   "cell_type": "code",
   "execution_count": null,
   "metadata": {},
   "outputs": [],
   "source": [
    "m = 20 # bit length of random message\n",
    "m1 = m//2\n",
    "m2 = m//2\n",
    "# Random short message is probably composite. Let's fake that...\n",
    "M1 = random.randint(1 << (m1 - 1), 1 << (m1))\n",
    "M2 = random.randint(1 << (m2 - 1), 1 << (m2))\n",
    "M = M1 *  M2\n",
    "print(f\"{M1 = }, {M2 = }, {M = }, {M.bit_length() = }\")\n",
    "C = pow(M, e, n)\n",
    "print(f\"{C = }\\n{C.bit_length() = }\")"
   ]
  },
  {
   "cell_type": "code",
   "execution_count": null,
   "metadata": {},
   "outputs": [],
   "source": [
    "stored_bits = 20\n",
    "T = np.zeros(1 << stored_bits, dtype = 'uint64')\n",
    "print(f\"Storing {1 << m1} partial ciphertexts in the table.\")\n",
    "\n",
    "for M1 in range(1, 1 << m1):\n",
    "    partial_encrypt = pow(M1, e, n)\n",
    "    T[partial_encrypt % (1<<stored_bits)] = M1\n"
   ]
  },
  {
   "cell_type": "code",
   "execution_count": null,
   "metadata": {},
   "outputs": [],
   "source": [
    "# Complete the online (lookup) phase to find M1, M2, and compute M"
   ]
  }
 ],
 "metadata": {
  "kernelspec": {
   "display_name": "Python 3",
   "language": "python",
   "name": "python3"
  },
  "language_info": {
   "codemirror_mode": {
    "name": "ipython",
    "version": 3
   },
   "file_extension": ".py",
   "mimetype": "text/x-python",
   "name": "python",
   "nbconvert_exporter": "python",
   "pygments_lexer": "ipython3",
   "version": "3.9.1"
  }
 },
 "nbformat": 4,
 "nbformat_minor": 2
}
